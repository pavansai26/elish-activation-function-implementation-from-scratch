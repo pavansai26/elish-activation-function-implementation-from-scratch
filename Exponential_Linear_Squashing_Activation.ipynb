{
  "nbformat": 4,
  "nbformat_minor": 0,
  "metadata": {
    "colab": {
      "name": "Exponential Linear Squashing Activation.ipynb",
      "provenance": [],
      "private_outputs": true,
      "authorship_tag": "ABX9TyPC3303FHsRR9kBgSWtaoVQ",
      "include_colab_link": true
    },
    "kernelspec": {
      "name": "python3",
      "display_name": "Python 3"
    }
  },
  "cells": [
    {
      "cell_type": "markdown",
      "metadata": {
        "id": "view-in-github",
        "colab_type": "text"
      },
      "source": [
        "<a href=\"https://colab.research.google.com/github/pavansai26/elish-activation-function-implementation-from-scratch/blob/master/Exponential_Linear_Squashing_Activation.ipynb\" target=\"_parent\"><img src=\"https://colab.research.google.com/assets/colab-badge.svg\" alt=\"Open In Colab\"/></a>"
      ]
    },
    {
      "cell_type": "code",
      "metadata": {
        "id": "N23XaiYF1a3T",
        "colab_type": "code",
        "colab": {}
      },
      "source": [
        "import numpy as np"
      ],
      "execution_count": null,
      "outputs": []
    },
    {
      "cell_type": "markdown",
      "metadata": {
        "id": "MUMOG--U1fWw",
        "colab_type": "text"
      },
      "source": [
        "Exponential Linear Squashing Activation"
      ]
    },
    {
      "cell_type": "markdown",
      "metadata": {
        "id": "SGqNd3xS8GRt",
        "colab_type": "text"
      },
      "source": [
        "formula"
      ]
    },
    {
      "cell_type": "markdown",
      "metadata": {
        "id": "WnPPbQ3J72OE",
        "colab_type": "text"
      },
      "source": [
        "\n",
        "\n",
        "$$f\\left(x\\right) = \\frac{x}{1+e^{-x}} \\text{ if } x \\geq 0 $$ $$f\\left(x\\right) = \\frac{e^{x} - 1}{1+e^{-x}} \\text{ if } x < 0 $$\n",
        "\n"
      ]
    },
    {
      "cell_type": "code",
      "metadata": {
        "id": "IsP-di3O3Bzy",
        "colab_type": "code",
        "colab": {}
      },
      "source": [
        "def elish(x):\n",
        "\n",
        "  if x>=0:\n",
        "    return x/(1+np.exp(-x))\n",
        "  \n",
        "  else:\n",
        "    return (np.exp(x)-1)/(1+np.exp(-x))\n",
        "  "
      ],
      "execution_count": null,
      "outputs": []
    },
    {
      "cell_type": "markdown",
      "metadata": {
        "id": "EhPxghNO8Lsk",
        "colab_type": "text"
      },
      "source": [
        "visualization"
      ]
    },
    {
      "cell_type": "code",
      "metadata": {
        "id": "p4uLvfVd4ach",
        "colab_type": "code",
        "colab": {}
      },
      "source": [
        "from matplotlib import pyplot\n",
        "\n",
        "#Exponential Linear Squashing Activation\n",
        "def elish(x):\n",
        "\n",
        "  if x>=0:\n",
        "    return x/(1+np.exp(-x))\n",
        "  \n",
        "  else:\n",
        "    return (np.exp(x)-1)/(1+np.exp(-x))\n",
        "\n",
        "# define a series of inputs\n",
        "series_in = [x for x in range(-10, 11)]\n",
        "# calculate outputs for our inputs\n",
        "series_out = [elish(x) for x in series_in]\n",
        "# line plot of raw inputs to rectified outputs\n",
        "pyplot.plot(series_in, series_out)\n",
        "pyplot.show()\n",
        "  "
      ],
      "execution_count": null,
      "outputs": []
    },
    {
      "cell_type": "code",
      "metadata": {
        "id": "jKEz9qN044D7",
        "colab_type": "code",
        "colab": {}
      },
      "source": [
        ""
      ],
      "execution_count": null,
      "outputs": []
    }
  ]
}